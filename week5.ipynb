{
 "cells": [
  {
   "cell_type": "code",
   "execution_count": 6,
   "metadata": {},
   "outputs": [],
   "source": [
    "import pandas as pd\n",
    "import numpy as np\n",
    "import matplotlib as plt\n",
    "data = './Acceleration/Raw Data.csv'\n",
    "accel = pd.read_csv(data)"
   ]
  },
  {
   "cell_type": "code",
   "execution_count": 7,
   "metadata": {},
   "outputs": [
    {
     "name": "stdout",
     "output_type": "stream",
     "text": [
      "<class 'pandas.core.frame.DataFrame'>\n",
      "RangeIndex: 789 entries, 0 to 788\n",
      "Data columns (total 5 columns):\n",
      " #   Column                         Non-Null Count  Dtype  \n",
      "---  ------                         --------------  -----  \n",
      " 0   Time (s)                       789 non-null    float64\n",
      " 1   Linear Acceleration x (m/s^2)  789 non-null    float64\n",
      " 2   Linear Acceleration y (m/s^2)  789 non-null    float64\n",
      " 3   Linear Acceleration z (m/s^2)  789 non-null    float64\n",
      " 4   Absolute acceleration (m/s^2)  789 non-null    float64\n",
      "dtypes: float64(5)\n",
      "memory usage: 30.9 KB\n"
     ]
    }
   ],
   "source": [
    "accel.info()"
   ]
  },
  {
   "cell_type": "code",
   "execution_count": 14,
   "metadata": {},
   "outputs": [],
   "source": [
    "time = pd.Series(accel['Time (s)'])\n",
    "xa = pd.Series(accel['Linear Acceleration x (m/s^2)'])\n",
    "ya = pd.Series(accel['Linear Acceleration y (m/s^2)'])\n",
    "za = pd.Series(accel['Linear Acceleration z (m/s^2)'])"
   ]
  },
  {
   "cell_type": "code",
   "execution_count": 15,
   "metadata": {},
   "outputs": [
    {
     "data": {
      "text/plain": [
       "0       0.147192\n",
       "1       0.163637\n",
       "2       0.180063\n",
       "3       0.196503\n",
       "4       0.212939\n",
       "         ...    \n",
       "784    13.360210\n",
       "785    13.376645\n",
       "786    13.393079\n",
       "787    13.409512\n",
       "788    13.425944\n",
       "Name: Time (s), Length: 789, dtype: float64"
      ]
     },
     "execution_count": 15,
     "metadata": {},
     "output_type": "execute_result"
    }
   ],
   "source": [
    "time"
   ]
  },
  {
   "cell_type": "code",
   "execution_count": 16,
   "metadata": {},
   "outputs": [
    {
     "name": "stdout",
     "output_type": "stream",
     "text": [
      "0      1.090982\n",
      "1      2.322205\n",
      "2      4.320523\n",
      "3      5.525537\n",
      "4      4.728166\n",
      "         ...   \n",
      "784    0.874465\n",
      "785    0.794669\n",
      "786    0.584645\n",
      "787    0.315825\n",
      "788    0.050049\n",
      "Length: 789, dtype: float64\n"
     ]
    }
   ],
   "source": [
    "xyz = xa **2 + ya ** 2 + za ** 2\n",
    "print(xyz)"
   ]
  },
  {
   "cell_type": "code",
   "execution_count": 21,
   "metadata": {},
   "outputs": [
    {
     "data": {
      "text/html": [
       "<div>\n",
       "<style scoped>\n",
       "    .dataframe tbody tr th:only-of-type {\n",
       "        vertical-align: middle;\n",
       "    }\n",
       "\n",
       "    .dataframe tbody tr th {\n",
       "        vertical-align: top;\n",
       "    }\n",
       "\n",
       "    .dataframe thead th {\n",
       "        text-align: right;\n",
       "    }\n",
       "</style>\n",
       "<table border=\"1\" class=\"dataframe\">\n",
       "  <thead>\n",
       "    <tr style=\"text-align: right;\">\n",
       "      <th></th>\n",
       "      <th>Time (s)</th>\n",
       "      <th>Linear Acceleration x (m/s^2)</th>\n",
       "      <th>Linear Acceleration y (m/s^2)</th>\n",
       "      <th>Linear Acceleration z (m/s^2)</th>\n",
       "      <th>Absolute acceleration (m/s^2)</th>\n",
       "    </tr>\n",
       "  </thead>\n",
       "  <tbody>\n",
       "    <tr>\n",
       "      <th>784</th>\n",
       "      <td>13.360210</td>\n",
       "      <td>0.234269</td>\n",
       "      <td>-0.135431</td>\n",
       "      <td>0.895121</td>\n",
       "      <td>0.935128</td>\n",
       "    </tr>\n",
       "    <tr>\n",
       "      <th>785</th>\n",
       "      <td>13.376645</td>\n",
       "      <td>0.064160</td>\n",
       "      <td>0.320130</td>\n",
       "      <td>0.829499</td>\n",
       "      <td>0.891442</td>\n",
       "    </tr>\n",
       "    <tr>\n",
       "      <th>786</th>\n",
       "      <td>13.393079</td>\n",
       "      <td>0.112574</td>\n",
       "      <td>0.428924</td>\n",
       "      <td>0.622893</td>\n",
       "      <td>0.764621</td>\n",
       "    </tr>\n",
       "    <tr>\n",
       "      <th>787</th>\n",
       "      <td>13.409512</td>\n",
       "      <td>0.119420</td>\n",
       "      <td>0.332472</td>\n",
       "      <td>0.437066</td>\n",
       "      <td>0.561983</td>\n",
       "    </tr>\n",
       "    <tr>\n",
       "      <th>788</th>\n",
       "      <td>13.425944</td>\n",
       "      <td>-0.081052</td>\n",
       "      <td>0.194506</td>\n",
       "      <td>0.075146</td>\n",
       "      <td>0.223716</td>\n",
       "    </tr>\n",
       "  </tbody>\n",
       "</table>\n",
       "</div>"
      ],
      "text/plain": [
       "      Time (s)  Linear Acceleration x (m/s^2)  Linear Acceleration y (m/s^2)  \\\n",
       "784  13.360210                       0.234269                      -0.135431   \n",
       "785  13.376645                       0.064160                       0.320130   \n",
       "786  13.393079                       0.112574                       0.428924   \n",
       "787  13.409512                       0.119420                       0.332472   \n",
       "788  13.425944                      -0.081052                       0.194506   \n",
       "\n",
       "     Linear Acceleration z (m/s^2)  Absolute acceleration (m/s^2)  \n",
       "784                       0.895121                       0.935128  \n",
       "785                       0.829499                       0.891442  \n",
       "786                       0.622893                       0.764621  \n",
       "787                       0.437066                       0.561983  \n",
       "788                       0.075146                       0.223716  "
      ]
     },
     "execution_count": 21,
     "metadata": {},
     "output_type": "execute_result"
    }
   ],
   "source": [
    "accel.tail(5)"
   ]
  },
  {
   "cell_type": "code",
   "execution_count": 30,
   "metadata": {},
   "outputs": [
    {
     "data": {
      "text/plain": [
       "13.42594437"
      ]
     },
     "execution_count": 30,
     "metadata": {},
     "output_type": "execute_result"
    }
   ],
   "source": [
    "tt = time.iloc[-1]\n",
    "tt"
   ]
  }
 ],
 "metadata": {
  "kernelspec": {
   "display_name": "Python 3.10.0 ('venv': venv)",
   "language": "python",
   "name": "python3"
  },
  "language_info": {
   "codemirror_mode": {
    "name": "ipython",
    "version": 3
   },
   "file_extension": ".py",
   "mimetype": "text/x-python",
   "name": "python",
   "nbconvert_exporter": "python",
   "pygments_lexer": "ipython3",
   "version": "3.10.0"
  },
  "orig_nbformat": 4,
  "vscode": {
   "interpreter": {
    "hash": "12088232131d2434c078d6f0846d9c9a7cfbeba2556d88df3c596cabefcb8f67"
   }
  }
 },
 "nbformat": 4,
 "nbformat_minor": 2
}
