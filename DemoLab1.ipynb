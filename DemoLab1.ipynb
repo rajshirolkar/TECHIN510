{
 "cells": [
  {
   "cell_type": "code",
   "execution_count": null,
   "metadata": {},
   "outputs": [],
   "source": []
  }
 ],
 "metadata": {
  "kernelspec": {
   "display_name": "Python 3.10.0 ('venv': venv)",
   "language": "python",
   "name": "python3"
  },
  "language_info": {
   "name": "python",
   "version": "3.10.0"
  },
  "orig_nbformat": 4,
  "vscode": {
   "interpreter": {
    "hash": "fd3945bdcd8061aece28738dcabbcdb15c5fc2d7ff02316c86239cfd7e6dc44e"
   }
  }
 },
 "nbformat": 4,
 "nbformat_minor": 2
}
