{
 "cells": [
  {
   "cell_type": "markdown",
   "id": "ab22f849",
   "metadata": {},
   "source": [
    "# Objective & Tasks\n",
    "The objective of this lab is to review some of the material from TECHIN 509 in order to help the instructors gauge your comfort level with Python.\n",
    "\n",
    "Your task is to write Python code that solves each of the problems below. Please submit the Jupyter Notebook file before the end of class today. If you need help from an instructor, please let one of us know.\n",
    "\n",
    "You should also feel free to reference [Python's documentation](https://www.python.org/doc/) for any questions you have during the assignment."
   ]
  },
  {
   "cell_type": "markdown",
   "id": "b1fc0fc9",
   "metadata": {},
   "source": [
    "## Task 1\n",
    "Define two variables, `first_name` and `last_name` and concatenate the two so that they print on the same line. Ex. `Scott Stevson`"
   ]
  },
  {
   "cell_type": "code",
   "execution_count": 1,
   "id": "e7ef28e2",
   "metadata": {},
   "outputs": [
    {
     "name": "stdout",
     "output_type": "stream",
     "text": [
      "Scott Stevson\n"
     ]
    }
   ],
   "source": [
    "first_name = \"Scott\"\n",
    "last_name = \"Stevson\"\n",
    "\n",
    "print(first_name + \" \" + last_name)"
   ]
  },
  {
   "cell_type": "markdown",
   "id": "7057ec62",
   "metadata": {},
   "source": [
    "## Task 2\n",
    "Create a list letters, `a-f` and use a `for` loop to print out each letter one line at a time"
   ]
  },
  {
   "cell_type": "code",
   "execution_count": 2,
   "id": "b1a1aa23",
   "metadata": {},
   "outputs": [
    {
     "name": "stdout",
     "output_type": "stream",
     "text": [
      "a\n",
      "b\n",
      "c\n",
      "d\n",
      "e\n",
      "f\n"
     ]
    }
   ],
   "source": [
    "letters = ['a', 'b', 'c', 'd', 'e', 'f']\n",
    "\n",
    "for letter in letters:\n",
    "  print(letter)"
   ]
  },
  {
   "cell_type": "markdown",
   "id": "5f54a6c2",
   "metadata": {},
   "source": [
    "## Task 3\n",
    "Create a function that takes no arguments and asks the user for their name and then prints (or returns) their name with a cheerful greeting. Ex `G'day, Scott Stevson!`"
   ]
  },
  {
   "cell_type": "code",
   "execution_count": 3,
   "id": "1056519a",
   "metadata": {},
   "outputs": [
    {
     "name": "stdout",
     "output_type": "stream",
     "text": [
      "G'day, Raj!\n"
     ]
    }
   ],
   "source": [
    "def greet_user():\n",
    "  name = input(\"What is your name? \")\n",
    "  print(\"G'day, \" + name + \"!\")\n",
    "\n",
    "greet_user()"
   ]
  },
  {
   "cell_type": "markdown",
   "id": "84668724",
   "metadata": {},
   "source": [
    "## Task 4\n",
    "Create a function that calculates a 20% gratuity at a restaurant. The function should take a single argument (an `int` or `float`, your choice) and should return the amount of the tip to the console."
   ]
  },
  {
   "cell_type": "code",
   "execution_count": 5,
   "id": "14108736",
   "metadata": {},
   "outputs": [
    {
     "name": "stdout",
     "output_type": "stream",
     "text": [
      "The tip amount is $20.0\n"
     ]
    }
   ],
   "source": [
    "def calculate_gratuity(bill_amount):\n",
    "  tip = bill_amount * 0.2\n",
    "  print(\"The tip amount is $\" + str(tip))\n",
    "\n",
    "calculate_gratuity(100)  # The tip amount is $20.0\n"
   ]
  },
  {
   "cell_type": "markdown",
   "id": "08ec9cf0",
   "metadata": {},
   "source": [
    "## Task 5\n",
    "Write a program that prints the numbers 0-10 to the console."
   ]
  },
  {
   "cell_type": "code",
   "execution_count": 6,
   "id": "87455a5d",
   "metadata": {},
   "outputs": [
    {
     "name": "stdout",
     "output_type": "stream",
     "text": [
      "0\n",
      "1\n",
      "2\n",
      "3\n",
      "4\n",
      "5\n",
      "6\n",
      "7\n",
      "8\n",
      "9\n",
      "10\n"
     ]
    }
   ],
   "source": [
    "for i in range(11):\n",
    "  print(i)\n"
   ]
  },
  {
   "cell_type": "markdown",
   "id": "214d25ef",
   "metadata": {},
   "source": [
    "## Task 6\n",
    "Write a program that finds the Factorial of a given number.\n",
    "More on factorials can be found [here:](https://www.cuemath.com/numbers/factorial/) "
   ]
  },
  {
   "cell_type": "code",
   "execution_count": 7,
   "id": "8d075244",
   "metadata": {},
   "outputs": [
    {
     "name": "stdout",
     "output_type": "stream",
     "text": [
      "120\n",
      "3628800\n"
     ]
    }
   ],
   "source": [
    "def factorial(n):\n",
    "  if n == 0:\n",
    "    return 1\n",
    "  else:\n",
    "    return n * factorial(n-1)\n",
    "\n",
    "print(factorial(5))  # 120\n",
    "print(factorial(10)) \n"
   ]
  },
  {
   "cell_type": "markdown",
   "id": "a4d958e4",
   "metadata": {},
   "source": [
    "## Task 7\n",
    "Write a program that asks the user the same question over and over until the user indicates they no longer want to provide an answer."
   ]
  },
  {
   "cell_type": "code",
   "execution_count": 8,
   "id": "9bc54538",
   "metadata": {},
   "outputs": [
    {
     "name": "stdout",
     "output_type": "stream",
     "text": [
      "Next question - \n",
      "Next question - \n"
     ]
    }
   ],
   "source": [
    "while True:\n",
    "  answer = input(\"Do you want to continue answering? (y/n) \")\n",
    "  if answer == 'n':\n",
    "    break\n",
    "  else:\n",
    "    print('Next question - ')"
   ]
  },
  {
   "cell_type": "markdown",
   "id": "467f4177",
   "metadata": {},
   "source": [
    "## Task 8\n",
    "Write a `class` \"Person\" that when instantiated contains the persons first name, last name, and age."
   ]
  },
  {
   "cell_type": "code",
   "execution_count": 9,
   "id": "9003f0a9",
   "metadata": {},
   "outputs": [
    {
     "name": "stdout",
     "output_type": "stream",
     "text": [
      "Raj\n",
      "Shirolkar\n",
      "30\n"
     ]
    }
   ],
   "source": [
    "class Person:\n",
    "  def __init__(self, first_name, last_name, age):\n",
    "    self.first_name = first_name\n",
    "    self.last_name = last_name\n",
    "    self.age = age\n",
    "\n",
    "person1 = Person(\"Raj\", \"Shirolkar\", 30)\n",
    "print(person1.first_name)\n",
    "print(person1.last_name)\n",
    "print(person1.age)\n"
   ]
  },
  {
   "cell_type": "markdown",
   "id": "a1a718ba",
   "metadata": {},
   "source": [
    "## Task 9\n",
    "Write a program that asks the user whether they enjoy jogging. The user's response should be one of the following: \"yes\", \"no\", \"y\", \"n\". The program should continue asking the question until the user provides the correct response."
   ]
  },
  {
   "cell_type": "code",
   "execution_count": 10,
   "id": "28dedf56",
   "metadata": {},
   "outputs": [
    {
     "name": "stdout",
     "output_type": "stream",
     "text": [
      "Thank you for your response.\n"
     ]
    }
   ],
   "source": [
    "while True:\n",
    "  answer = input(\"Do you enjoy jogging? (yes/no) \").lower()\n",
    "  if answer == \"yes\" or answer == \"no\" or answer == \"y\" or answer == \"n\":\n",
    "    break\n",
    "\n",
    "print(\"Thank you for your response.\")\n"
   ]
  },
  {
   "cell_type": "markdown",
   "id": "fb04333e",
   "metadata": {},
   "source": [
    "## Task 10\n",
    "### Fibonacci Sequence\n",
    "Given a number `n`, return the nth Fibonacci's number. You can find more information about Fibonacci Sequences [here](https://www.mathsisfun.com/numbers/fibonacci-sequence.html)"
   ]
  },
  {
   "cell_type": "code",
   "execution_count": 13,
   "id": "58323c37",
   "metadata": {},
   "outputs": [
    {
     "name": "stdout",
     "output_type": "stream",
     "text": [
      "0\n",
      "1\n",
      "13\n"
     ]
    }
   ],
   "source": [
    "def fibonacci(n):\n",
    "  if n == 0:\n",
    "    return 0\n",
    "  elif n == 1:\n",
    "    return 1\n",
    "  else:\n",
    "    return fibonacci(n-1) + fibonacci(n-2)\n",
    "\n",
    "print(fibonacci(0))  # 0\n",
    "print(fibonacci(1))  # 1\n",
    "print(fibonacci(7))"
   ]
  },
  {
   "cell_type": "markdown",
   "id": "ef4fc681",
   "metadata": {},
   "source": [
    "## Bonus Question\n",
    "### Number Guessing Game\n",
    "* Write a function `guessing_game` that takes no arguments.\n",
    "* When run, the function chooses a random integer between 0 and 100 (inclusive).\n",
    "* Then ask the user to guess what number has been chosen.\n",
    "* Each time the user enters a guess, the program indicates one of the following:\n",
    "    * Too high\n",
    "    * Too low\n",
    "    * Just right\n",
    "* If the user guesses correctly, the program exits. Otherwise, the user is asked to try again.\n",
    "* The program only exits after the user guesses correctly."
   ]
  },
  {
   "cell_type": "code",
   "execution_count": 15,
   "id": "9f14a1d5",
   "metadata": {},
   "outputs": [
    {
     "name": "stdout",
     "output_type": "stream",
     "text": [
      "Too high.\n",
      "Too high.\n",
      "Too high.\n",
      "Too low.\n",
      "Too low.\n",
      "You guessed it right!\n"
     ]
    }
   ],
   "source": [
    "import random\n",
    "def guessing_game():\n",
    "  number = random.randint(0, 100)\n",
    "  while True:\n",
    "    guess = int(input(\"Enter your guess: \"))\n",
    "    if guess < number:\n",
    "      print(\"Too low.\")\n",
    "    elif guess > number:\n",
    "      print(\"Too high.\")\n",
    "    else:\n",
    "      print(\"You guessed it right!\")\n",
    "      break\n",
    "\n",
    "guessing_game()"
   ]
  }
 ],
 "metadata": {
  "kernelspec": {
   "display_name": "Python 3.11.0 64-bit",
   "language": "python",
   "name": "python3"
  },
  "language_info": {
   "codemirror_mode": {
    "name": "ipython",
    "version": 3
   },
   "file_extension": ".py",
   "mimetype": "text/x-python",
   "name": "python",
   "nbconvert_exporter": "python",
   "pygments_lexer": "ipython3",
   "version": "3.11.0"
  },
  "vscode": {
   "interpreter": {
    "hash": "1a1af0ee75eeea9e2e1ee996c87e7a2b11a0bebd85af04bb136d915cefc0abce"
   }
  }
 },
 "nbformat": 4,
 "nbformat_minor": 5
}
