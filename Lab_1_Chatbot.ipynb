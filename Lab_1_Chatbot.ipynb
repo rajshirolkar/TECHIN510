{
 "cells": [
  {
   "cell_type": "markdown",
   "id": "20feb6b3",
   "metadata": {},
   "source": [
    "# Working with Chatbots"
   ]
  },
  {
   "cell_type": "markdown",
   "id": "95a0889f",
   "metadata": {},
   "source": [
    "## Activity 1: Demo an Existing Chatbot\n",
    "Before we begin creating our own chatbots, let's take a look at a few example chatbots from the popular NLTK library."
   ]
  },
  {
   "cell_type": "markdown",
   "id": "d9a8774c",
   "metadata": {},
   "source": [
    "### Install the Natural Language Toolkit (NLTK)\n",
    "First we install the NLTK library and call the `.chat.chatbots()` method to see a selection of simple pre-built chatbots "
   ]
  },
  {
   "cell_type": "markdown",
   "id": "6e64b24c",
   "metadata": {},
   "source": [
    "We'll also install pandas which we'll be using the read text files"
   ]
  },
  {
   "cell_type": "code",
   "execution_count": 15,
   "id": "7456c029",
   "metadata": {},
   "outputs": [],
   "source": [
    "import pandas as pd\n",
    "import random"
   ]
  },
  {
   "cell_type": "markdown",
   "id": "5bebd13b",
   "metadata": {},
   "source": [
    "## Lab 1: Create Your Own Chatbot"
   ]
  },
  {
   "cell_type": "markdown",
   "id": "77d77d36",
   "metadata": {},
   "source": [
    "###  Step 1: Barebones Interactive Chatbot\n",
    "You will first create a simple interactive loop between user input and program output. Before entering the loop, your program should prompt the user to request their input (e.g. \"Hi, how can I help you?\"). At each iteration of the loop, the program should take user input (typed onto the terminal pressing 'Enter' at the end) and then output simple statistical information about that input (e.g. \"You entered X letters and Y words\"). Also add a way to exit the loop; for example, if the user types \"Bye\" the loop should end and your program should halt after a final prompt to the user to acknowledge that the interaction has ended. Add your code below."
   ]
  },
  {
   "cell_type": "code",
   "execution_count": 9,
   "id": "032aac1a",
   "metadata": {},
   "outputs": [],
   "source": [
    "## Barebones interactice chatbot\n",
    "\n",
    "# TODO: Implement the interactive system as described above"
   ]
  },
  {
   "cell_type": "code",
   "execution_count": 2,
   "id": "71c74c05",
   "metadata": {},
   "outputs": [
    {
     "name": "stdout",
     "output_type": "stream",
     "text": [
      "You entered 11 letters and 2 words.\n",
      "Goodbye!\n"
     ]
    }
   ],
   "source": [
    "while True:\n",
    "    user_input = input(\"Hi, how can I help you? \")\n",
    "    if user_input.lower() == \"bye\":\n",
    "        print(\"Goodbye!\")\n",
    "        break\n",
    "    else:\n",
    "        num_letters = len(user_input)\n",
    "        num_words = len(user_input.split())\n",
    "        print(\"You entered\", num_letters, \"letters and\", num_words, \"words.\")"
   ]
  },
  {
   "cell_type": "markdown",
   "id": "95fe6739",
   "metadata": {},
   "source": [
    "### Step 2: Simple ListenBot\n",
    "\n",
    "Next you will upgrade your chatbot to be a \"good listener.\" Do not worry about deleting or overwriting things you did in the previous step. Before entering into the interactive loop, your chatbot should ask the user's name and remember it throughout the chat. It should also prompt the user to talk about something (e.g. \"How was your day, Ashitaka?\") As part of the loop, the chatbot should analyze the user's input and decide whether to give a positive, negative, or neutral response. To analyze the input, we have supplied a fixed list of [positive](http://ptrckprry.com/course/ssd/data/positive-words.txt) and [negative](http://ptrckprry.com/course/ssd/data/negative-words.txt) words and which will determine the number of positive and negative words that occur in the user's input. For the most simple version of the `ListenBot`, your list of positive and negative words do not have to be too long, just enough to showcase a simple conversation. However, the lists we supply will make your `ListenBot` more robust. \n",
    "\n",
    "The chatbot should respond based on the number of positive and negative words in the user's input. Your chatbot should have at least two different responses of each type and should alternate between responses, e.g.:\n",
    "* Positive responses: \"Great!\" \"Cool!\"\n",
    "* Negative responses: \"Too bad!\" \"Womp, womp!\"\n",
    "* Neutral responses: \"Hmm..\" \"I see.\"\n",
    "\n",
    "As before, there should be at least one way to end the conversation. You can make the ways to end the conversation known to the user in your earlier prompt or somewhere during the conversation. Add your updated code below."
   ]
  },
  {
   "cell_type": "code",
   "execution_count": 10,
   "id": "afc72e51",
   "metadata": {},
   "outputs": [],
   "source": [
    "## Simple ListenBot\n",
    "\n",
    "# TODO: Implement ListenBot by extending the barebones interactive chatbot\n",
    "\n",
    "# Use the positive and negative word lists below to make your ListenBot more effective\n",
    "\n",
    "# Note that we generate these lists from words in plain text files that you can find on\n",
    "# Canvas under Files. Upload them to your own notebook server."
   ]
  },
  {
   "cell_type": "markdown",
   "id": "dba59602",
   "metadata": {},
   "source": [
    "#### Positive list and its word count"
   ]
  },
  {
   "cell_type": "code",
   "execution_count": 5,
   "id": "6425595a",
   "metadata": {},
   "outputs": [],
   "source": [
    "positive = list(pd.read_csv(\"positive_words.txt\", header=0).iloc[:,0].values)"
   ]
  },
  {
   "cell_type": "code",
   "execution_count": 6,
   "id": "09d38dd7",
   "metadata": {},
   "outputs": [
    {
     "data": {
      "text/plain": [
       "2006"
      ]
     },
     "execution_count": 6,
     "metadata": {},
     "output_type": "execute_result"
    }
   ],
   "source": [
    "len(positive)"
   ]
  },
  {
   "cell_type": "markdown",
   "id": "2dc06eeb",
   "metadata": {},
   "source": [
    "#### Negative list and its word count"
   ]
  },
  {
   "cell_type": "code",
   "execution_count": 10,
   "id": "a1e6351b",
   "metadata": {},
   "outputs": [],
   "source": [
    "negative = list(pd.read_csv(\"negative_words.txt\", header=0).iloc[:,0].values)"
   ]
  },
  {
   "cell_type": "code",
   "execution_count": 11,
   "id": "cca13097",
   "metadata": {},
   "outputs": [
    {
     "data": {
      "text/plain": [
       "4782"
      ]
     },
     "execution_count": 11,
     "metadata": {},
     "output_type": "execute_result"
    }
   ],
   "source": [
    "len(negative)"
   ]
  },
  {
   "cell_type": "code",
   "execution_count": 18,
   "id": "a24d7ca9",
   "metadata": {},
   "outputs": [
    {
     "name": "stdout",
     "output_type": "stream",
     "text": [
      "Raj you entered 24 letters and 5 words.\n",
      "Great! 😊\n",
      "Raj your sentence has  3  positive words and 2 negative words.\n",
      "Raj you entered 2 letters and 1 words.\n",
      "Hmmm 😶\n",
      "Raj your sentence has  0  positive words and 0 negative words.\n",
      "Raj you entered 3 letters and 1 words.\n",
      "Hmmm 😶\n",
      "Raj your sentence has  0  positive words and 0 negative words.\n",
      "Goodbye!\n"
     ]
    }
   ],
   "source": [
    "username = input(\"Enter your name : \")\n",
    "while True:\n",
    "    user_input = input(\"Hi, how can I help you? Enter 'bye' to exit\")\n",
    "    if user_input.lower() == \"bye\":\n",
    "        print(\"Goodbye!\")\n",
    "        break\n",
    "    else:\n",
    "        pos_count = 0\n",
    "        neg_count = 0\n",
    "        neutral_count = 0\n",
    "        num_letters = len(user_input)\n",
    "        words = user_input.split()\n",
    "        num_words = len(user_input.split())\n",
    "        print(username + \" you entered\", num_letters, \"letters and\", num_words, \"words.\")\n",
    "        for word in words:\n",
    "            if word in positive:\n",
    "                pos_count = pos_count + 1\n",
    "            elif word in negative:\n",
    "                neg_count = neg_count + 1\n",
    "            else:\n",
    "                neutral_count = neutral_count + 1\n",
    "        if (pos_count > neg_count) and (pos_count > neg_count):\n",
    "            print(random.choice(['Cool! 😁', 'Great! 😊']))\n",
    "        elif neg_count > neutral_count: #if reached this point, b or c must be >= a\n",
    "            print(random.choice(['Womp, womp 😞', 'Too bad! 🙃']))\n",
    "        else:\n",
    "            print(random.choice(['Hmmm 😶', 'I see. 😶']))\n",
    "        print(username + \" your sentence has \", pos_count, \" positive words and\", neg_count, \"negative words.\")"
   ]
  },
  {
   "cell_type": "markdown",
   "id": "4a787e19",
   "metadata": {},
   "source": [
    "### Step 3: Improved Listenbot\n",
    "\n",
    "Now test your chatbot with a classmate or friend. Based on breakdowns or awkwardness in these tests choose at least one additional improvement and implement it below. Make sure to descibe your improvement in the list below."
   ]
  },
  {
   "cell_type": "code",
   "execution_count": 17,
   "id": "315aee0b",
   "metadata": {},
   "outputs": [
    {
     "name": "stdout",
     "output_type": "stream",
     "text": [
      "You entered 23 letters and 5 words.\n",
      "Your sentence has  3  positive words and 2 negative words.\n",
      "Great! 😊\n",
      "Our analysis suggests your sentence is 60.0% positive\n",
      "Goodbye!\n"
     ]
    }
   ],
   "source": [
    "## Improved ListenBot\n",
    "\n",
    "# TODO: Implement improved ListenBot that addresses at least one breakdown of the original ListenBotb\n",
    "\n",
    "positive_responses = ['Cool! 😁', 'Great! 😊']\n",
    "negative_responses = ['Womp, womp 😞', 'Too bad! 🙃']\n",
    "neutral_responses = ['Womp, womp 😞', 'Too bad! 🙃']\n",
    "standard_response = \"Our analysis suggests your sentence is \"\n",
    "\n",
    "while True:\n",
    "    user_input = input(\"Hi, how can I help you? Enter a sentence to get a sentiment breakdown or 'bye' to exit\")\n",
    "    if user_input.lower() == \"bye\":\n",
    "        print(\"Goodbye!\")\n",
    "        break\n",
    "    else:\n",
    "        pos_count = 0\n",
    "        neg_count = 0\n",
    "        neutral_count = 0\n",
    "        num_letters = len(user_input)\n",
    "        num_words = len(user_input.split())\n",
    "        words = user_input.split()\n",
    "        print(\"You entered\", num_letters, \"letters and\", num_words, \"words.\")\n",
    "        for word in words:\n",
    "            if word in positive:\n",
    "                pos_count = pos_count + 1\n",
    "            elif word in negative:\n",
    "                neg_count = neg_count + 1\n",
    "            else:\n",
    "                neutral_count = neutral_count + 1\n",
    "        print(\"Your sentence has \", pos_count, \" positive words and\", neg_count, \"negative words.\")\n",
    "        if (pos_count > neg_count) and (pos_count > neg_count):\n",
    "            print(random.choice(positive_responses))\n",
    "            percent = 100*(pos_count/num_words)\n",
    "            print(standard_response + str(percent) + \"% positive\")\n",
    "        elif neg_count > neutral_count: #if reached this point, b or c must be >= a\n",
    "            print(random.choice(negative_responses))\n",
    "            percent = 100*(pos_count/num_words)\n",
    "            print(standard_response + str(percent) + \"% negative\")\n",
    "        else:\n",
    "            print(random.choice(neutral_responses))\n",
    "            percent = 100*(pos_count/num_words)\n",
    "            print(standard_response + str(percent) + \"% neutral\")\n",
    "        "
   ]
  },
  {
   "cell_type": "markdown",
   "id": "35d5faf5",
   "metadata": {},
   "source": [
    "### List of Improvements\n",
    "Provide a list or table here in `markdown` containing the improvements you made and a brief description of why you made them."
   ]
  },
  {
   "cell_type": "markdown",
   "id": "1619d367",
   "metadata": {},
   "source": [
    "1. `percent` - Added percentage analysis for sentences\n",
    "2. `positive_responses` `negative_responses` `neutral_responses` Converted array of responses into variables for better readability\n",
    "3. `\"Enter a sentence to get a sentiment breakdown or 'bye' to exit\"` Added more descriptive prompt\n",
    "4. `standard_response` - Added a standard response variable for reusability"
   ]
  }
 ],
 "metadata": {
  "kernelspec": {
   "display_name": "Python 3.11.0 64-bit",
   "language": "python",
   "name": "python3"
  },
  "language_info": {
   "codemirror_mode": {
    "name": "ipython",
    "version": 3
   },
   "file_extension": ".py",
   "mimetype": "text/x-python",
   "name": "python",
   "nbconvert_exporter": "python",
   "pygments_lexer": "ipython3",
   "version": "3.11.0"
  },
  "vscode": {
   "interpreter": {
    "hash": "1a1af0ee75eeea9e2e1ee996c87e7a2b11a0bebd85af04bb136d915cefc0abce"
   }
  }
 },
 "nbformat": 4,
 "nbformat_minor": 5
}
